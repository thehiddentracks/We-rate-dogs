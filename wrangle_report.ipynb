{
 "cells": [
  {
   "cell_type": "markdown",
   "metadata": {},
   "source": [
    "## Reporting: wrangle_report"
   ]
  },
  {
   "cell_type": "markdown",
   "metadata": {},
   "source": [
    "#### Introduction to the project"
   ]
  },
  {
   "cell_type": "markdown",
   "metadata": {},
   "source": [
    "For this project I wrangle data associated with tweets of Twitter user \"dog_rates\". The dataset is based on three individual sets being provided by different sources:\n",
    "\n",
    "1. A twitter archive dataset containing tweet data directly from the user. This dataset is being provided as a download.\n",
    "\n",
    "2. An image prediction dataset containing information about the dog breeds. This dataset is being hosted on a server and should be downloaded programaticallly.\n",
    "\n",
    "3. A dataset containing retweet and favorite counts of tweets. This dataset needs to be created based on a request to the Twitter API.\n",
    "\n",
    "The goal is to wrangle all datasets to create interesting and trustworthy analyses and visualizations."
   ]
  },
  {
   "cell_type": "markdown",
   "metadata": {},
   "source": [
    "#### Gathering data"
   ]
  },
  {
   "cell_type": "markdown",
   "metadata": {},
   "source": [
    "First, I start with importing all needed modules for this project.\n",
    "Next I start gathering all datasets. The twitter archive, available as a CSV, can be downloaded and uploaded into the notebook.\n",
    "The second dataset requires me to create a request for accessing the given url leading to the file on the server. The request I save as a TSV file in the notebook.\n",
    "For the third dataset I requested a developer access for Twitter. I use the provided credentials to access the Twitter API and download the counts for every tweet from the archive dataset and save the JSON content line by line in a TXT file. Then I create a dataframe out of it only containing the columns I am looking for."
   ]
  },
  {
   "cell_type": "markdown",
   "metadata": {},
   "source": [
    "#### Assessing data"
   ]
  },
  {
   "cell_type": "markdown",
   "metadata": {},
   "source": [
    "I visually and programatically assess all three datasets one by one. I am looking at the content and structure given in each table and column and then have a closer look via programatically checking for duplicates, counting values, checking datatypes and the distribution of the data.\n",
    "There are many things that can be fixed and cleaned, but I focus on eight quality and two tidiness issues."
   ]
  },
  {
   "cell_type": "markdown",
   "metadata": {},
   "source": [
    "#### Cleaning data"
   ]
  },
  {
   "cell_type": "markdown",
   "metadata": {},
   "source": [
    "Before starting cleaning the data, I make copies of all three datasets and continue working with the copies.\n",
    "Most of the quality issues in the datasets are based on missing values, wrong content, or wrong formatting. All of issues I fix with the help of various replace, query, and split commands.\n",
    "The tidiness issues I fix in combining and reducing various columns and combining two tables as thir content fits thematically."
   ]
  },
  {
   "cell_type": "markdown",
   "metadata": {},
   "source": [
    "#### Storing data"
   ]
  },
  {
   "cell_type": "markdown",
   "metadata": {},
   "source": [
    "I create a combination of all tables in a master table and drop the not needed columns that appear empty after prevous cleaning steps."
   ]
  },
  {
   "cell_type": "markdown",
   "metadata": {},
   "source": [
    "#### Analyzing and visualizing data"
   ]
  },
  {
   "cell_type": "markdown",
   "metadata": {},
   "source": [
    "For the analyzing part I check the newly created master dataset for findings about the dog breeds and their popularity. I look at the distribution and value count of the breeds as well as the number of dog ratings to define my findings.\n",
    "For the visualization part I plot the number of most occuring dog breeds in the tweets to show which dogs were mentioned the most. Additionally I plot the mean of the favorite count per dog breed to show that despite appearing quite often in the previous chart, the most popular dogs in the tweets are not the most popular dogs according to the audience favorite count."
   ]
  }
 ],
 "metadata": {
  "kernelspec": {
   "display_name": "Python 3",
   "language": "python",
   "name": "python3"
  },
  "language_info": {
   "codemirror_mode": {
    "name": "ipython",
    "version": 3
   },
   "file_extension": ".py",
   "mimetype": "text/x-python",
   "name": "python",
   "nbconvert_exporter": "python",
   "pygments_lexer": "ipython3",
   "version": "3.6.3"
  }
 },
 "nbformat": 4,
 "nbformat_minor": 2
}
